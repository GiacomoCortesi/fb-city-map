{
 "cells": [
  {
   "cell_type": "markdown",
   "source": [
    "## City to Facebook ID mapping - Marketplace\n",
    "This Jupiter notebook provides a mapping of postal code and country with Facebook marketplace cities ID\n",
    "It reads input cities information as CSV/JSON/XML data.\n",
    "It crawls Facebook graphql API to extract cities information.\n",
    "It creates a python dictionary that can be easily embedded in a program."
   ],
   "metadata": {
    "collapsed": false
   },
   "id": "c7295343361de353"
  },
  {
   "cell_type": "markdown",
   "source": [
    "1. Fill input form information"
   ],
   "metadata": {
    "collapsed": false
   },
   "id": "e2dd7ac774a39e0c"
  },
  {
   "cell_type": "code",
   "outputs": [],
   "source": [
    "#@title Input Form\n",
    "\n",
    "FileType = \"CSV\" #@param [\"CSV\", \"JSON\", \"XML\"]\n",
    "FileName = 'data.csv' #@param {type:\"string\"}"
   ],
   "metadata": {
    "collapsed": false,
    "ExecuteTime": {
     "end_time": "2024-02-29T20:28:15.534188Z",
     "start_time": "2024-02-29T20:28:15.519188Z"
    }
   },
   "id": "e053f2a6604610d4",
   "execution_count": 53
  },
  {
   "cell_type": "markdown",
   "source": [
    "2. Import postal code information file (csv/json/xml)"
   ],
   "metadata": {
    "collapsed": false
   },
   "id": "c43f6eb0a7f6d145"
  },
  {
   "cell_type": "markdown",
   "source": [],
   "metadata": {
    "collapsed": false
   },
   "id": "4f933dc180ff28d5"
  },
  {
   "cell_type": "code",
   "outputs": [
    {
     "data": {
      "text/plain": "   Codice Regione Codice Citt� Metropolitana  Codice Provincia (1)  \\\n0               8                          -                    39   \n1               8                          -                    39   \n2               8                          -                    39   \n3               8                          -                    39   \n4               8                          -                    39   \n\n   Progressivo del Comune (2)  Codice Comune formato alfanumerico  \\\n0                           4                               39004   \n1                           5                               39005   \n2                           6                               39006   \n3                           7                               39007   \n4                           8                               39008   \n\n         place name  Denominazione in tedesco  Codice Ripartizione Geografica  \\\n0       Brisighella                       NaN                               2   \n1   Casola Valsenio                       NaN                               2   \n2  Castel Bolognese                       NaN                               2   \n3            Cervia                       NaN                               2   \n4         Conselice                       NaN                               2   \n\n  Ripartizione geografica Denominazione regione  ...  \\\n0                Nord-est        Emilia-Romagna  ...   \n1                Nord-est        Emilia-Romagna  ...   \n2                Nord-est        Emilia-Romagna  ...   \n3                Nord-est        Emilia-Romagna  ...   \n4                Nord-est        Emilia-Romagna  ...   \n\n  Codice Comune numerico con 103 province (dal 1995 al 2005)  \\\n0                                              39004           \n1                                              39005           \n2                                              39006           \n3                                              39007           \n4                                              39008           \n\n  Codice Catastale del comune  Popolazione legale 2011 (09/10/2011)  \\\n0                        B188                                 7.664   \n1                        B982                                 2.724   \n2                        C065                                 9.519   \n3                        C553                                28.896   \n4                        C963                                 9.837   \n\n  Codice NUTS1 2010  Codice NUTS2 2010 (3)   Codice NUTS3 2010  \\\n0               ITH                    ITH5              ITH57   \n1               ITH                    ITH5              ITH57   \n2               ITH                    ITH5              ITH57   \n3               ITH                    ITH5              ITH57   \n4               ITH                    ITH5              ITH57   \n\n   Codice NUTS1 2006 Codice NUTS2 2006 (3)  Codice NUTS3 2006 Unnamed: 25  \n0                ITD                  ITD5              ITD57         NaN  \n1                ITD                  ITD5              ITD57         NaN  \n2                ITD                  ITD5              ITD57         NaN  \n3                ITD                  ITD5              ITD57         NaN  \n4                ITD                  ITD5              ITD57         NaN  \n\n[5 rows x 26 columns]",
      "text/html": "<div>\n<style scoped>\n    .dataframe tbody tr th:only-of-type {\n        vertical-align: middle;\n    }\n\n    .dataframe tbody tr th {\n        vertical-align: top;\n    }\n\n    .dataframe thead th {\n        text-align: right;\n    }\n</style>\n<table border=\"1\" class=\"dataframe\">\n  <thead>\n    <tr style=\"text-align: right;\">\n      <th></th>\n      <th>Codice Regione</th>\n      <th>Codice Citt� Metropolitana</th>\n      <th>Codice Provincia (1)</th>\n      <th>Progressivo del Comune (2)</th>\n      <th>Codice Comune formato alfanumerico</th>\n      <th>place name</th>\n      <th>Denominazione in tedesco</th>\n      <th>Codice Ripartizione Geografica</th>\n      <th>Ripartizione geografica</th>\n      <th>Denominazione regione</th>\n      <th>...</th>\n      <th>Codice Comune numerico con 103 province (dal 1995 al 2005)</th>\n      <th>Codice Catastale del comune</th>\n      <th>Popolazione legale 2011 (09/10/2011)</th>\n      <th>Codice NUTS1 2010</th>\n      <th>Codice NUTS2 2010 (3)</th>\n      <th>Codice NUTS3 2010</th>\n      <th>Codice NUTS1 2006</th>\n      <th>Codice NUTS2 2006 (3)</th>\n      <th>Codice NUTS3 2006</th>\n      <th>Unnamed: 25</th>\n    </tr>\n  </thead>\n  <tbody>\n    <tr>\n      <th>0</th>\n      <td>8</td>\n      <td>-</td>\n      <td>39</td>\n      <td>4</td>\n      <td>39004</td>\n      <td>Brisighella</td>\n      <td>NaN</td>\n      <td>2</td>\n      <td>Nord-est</td>\n      <td>Emilia-Romagna</td>\n      <td>...</td>\n      <td>39004</td>\n      <td>B188</td>\n      <td>7.664</td>\n      <td>ITH</td>\n      <td>ITH5</td>\n      <td>ITH57</td>\n      <td>ITD</td>\n      <td>ITD5</td>\n      <td>ITD57</td>\n      <td>NaN</td>\n    </tr>\n    <tr>\n      <th>1</th>\n      <td>8</td>\n      <td>-</td>\n      <td>39</td>\n      <td>5</td>\n      <td>39005</td>\n      <td>Casola Valsenio</td>\n      <td>NaN</td>\n      <td>2</td>\n      <td>Nord-est</td>\n      <td>Emilia-Romagna</td>\n      <td>...</td>\n      <td>39005</td>\n      <td>B982</td>\n      <td>2.724</td>\n      <td>ITH</td>\n      <td>ITH5</td>\n      <td>ITH57</td>\n      <td>ITD</td>\n      <td>ITD5</td>\n      <td>ITD57</td>\n      <td>NaN</td>\n    </tr>\n    <tr>\n      <th>2</th>\n      <td>8</td>\n      <td>-</td>\n      <td>39</td>\n      <td>6</td>\n      <td>39006</td>\n      <td>Castel Bolognese</td>\n      <td>NaN</td>\n      <td>2</td>\n      <td>Nord-est</td>\n      <td>Emilia-Romagna</td>\n      <td>...</td>\n      <td>39006</td>\n      <td>C065</td>\n      <td>9.519</td>\n      <td>ITH</td>\n      <td>ITH5</td>\n      <td>ITH57</td>\n      <td>ITD</td>\n      <td>ITD5</td>\n      <td>ITD57</td>\n      <td>NaN</td>\n    </tr>\n    <tr>\n      <th>3</th>\n      <td>8</td>\n      <td>-</td>\n      <td>39</td>\n      <td>7</td>\n      <td>39007</td>\n      <td>Cervia</td>\n      <td>NaN</td>\n      <td>2</td>\n      <td>Nord-est</td>\n      <td>Emilia-Romagna</td>\n      <td>...</td>\n      <td>39007</td>\n      <td>C553</td>\n      <td>28.896</td>\n      <td>ITH</td>\n      <td>ITH5</td>\n      <td>ITH57</td>\n      <td>ITD</td>\n      <td>ITD5</td>\n      <td>ITD57</td>\n      <td>NaN</td>\n    </tr>\n    <tr>\n      <th>4</th>\n      <td>8</td>\n      <td>-</td>\n      <td>39</td>\n      <td>8</td>\n      <td>39008</td>\n      <td>Conselice</td>\n      <td>NaN</td>\n      <td>2</td>\n      <td>Nord-est</td>\n      <td>Emilia-Romagna</td>\n      <td>...</td>\n      <td>39008</td>\n      <td>C963</td>\n      <td>9.837</td>\n      <td>ITH</td>\n      <td>ITH5</td>\n      <td>ITH57</td>\n      <td>ITD</td>\n      <td>ITD5</td>\n      <td>ITD57</td>\n      <td>NaN</td>\n    </tr>\n  </tbody>\n</table>\n<p>5 rows × 26 columns</p>\n</div>"
     },
     "execution_count": 54,
     "metadata": {},
     "output_type": "execute_result"
    }
   ],
   "source": [
    "import pandas as pd\n",
    "if FileType == \"CSV\":\n",
    "    df = pd.read_csv(FileName, sep=\";\")\n",
    "\n",
    "if FileType == \"JSON\":\n",
    "    df = pd.read_json(FileName)\n",
    "    \n",
    "if FileType == \"XML\":\n",
    "    df = pd.read_xml(FileName)\n",
    "    \n",
    "df.head()"
   ],
   "metadata": {
    "collapsed": false,
    "ExecuteTime": {
     "end_time": "2024-02-29T20:28:18.252791Z",
     "start_time": "2024-02-29T20:28:18.229790Z"
    }
   },
   "id": "bca135856b27b5d5",
   "execution_count": 54
  },
  {
   "cell_type": "markdown",
   "source": [
    "3. Query Facebook with the cities dataset and create mapping dict (make sure to replace the query token)"
   ],
   "metadata": {
    "collapsed": false
   },
   "id": "1d5cb82140166b6f"
  },
  {
   "cell_type": "code",
   "outputs": [
    {
     "name": "stdout",
     "output_type": "stream",
     "text": [
      "b'{\"data\":{\"basic_marketplace_geo_entities_search\":[{\"single_line_address\":\"Brisighella\",\"multi_line_address\":[],\"subtitle\":\"Citt\\\\u00e0\",\"page\":{\"id\":\"103824622989212\"},\"location\":{\"latitude\":44.22361,\"longitude\":11.77578,\"reverse_geocode_detailed\":{\"city\":\"Brisighella\",\"postal_code\":\"48013\",\"country_alpha_two\":\"IT\"}}}]},\"extensions\":{\"is_final\":true}}'\n",
      "b'{\"data\":{\"basic_marketplace_geo_entities_search\":[]},\"extensions\":{\"is_final\":true}}'\n",
      "b'{\"data\":{\"basic_marketplace_geo_entities_search\":[]},\"extensions\":{\"is_final\":true}}'\n",
      "b'{\"data\":{\"basic_marketplace_geo_entities_search\":[{\"single_line_address\":\"Cervia\",\"multi_line_address\":[],\"subtitle\":\"Citt\\\\u00e0\",\"page\":{\"id\":\"105762946124194\"},\"location\":{\"latitude\":44.26145,\"longitude\":12.34739,\"reverse_geocode_detailed\":{\"city\":\"Cervia\",\"postal_code\":\"48015\",\"country_alpha_two\":\"IT\"}}},{\"single_line_address\":\"Concerviano\",\"multi_line_address\":[],\"subtitle\":\"Citt\\\\u00e0\",\"page\":{\"id\":\"103740509665061\"},\"location\":{\"latitude\":42.32277,\"longitude\":12.98534,\"reverse_geocode_detailed\":{\"city\":\"Concerviano\",\"postal_code\":\"02020\",\"country_alpha_two\":\"IT\"}}},{\"single_line_address\":\"Cervi\\\\u00e1 De Ter, Cataluna, Spain\",\"multi_line_address\":[],\"subtitle\":\"Citt\\\\u00e0\",\"page\":{\"id\":\"104804759555744\"},\"location\":{\"latitude\":42.06721,\"longitude\":2.90933,\"reverse_geocode_detailed\":{\"city\":\"Cervi\\\\u00e0 de Ter\",\"postal_code\":\"17464\",\"country_alpha_two\":\"ES\"}}},{\"single_line_address\":\"Chi\\\\u00e8vres\",\"multi_line_address\":[],\"subtitle\":\"Citt\\\\u00e0\",\"page\":{\"id\":\"112565218760518\"},\"location\":{\"latitude\":50.58654,\"longitude\":3.80711,\"reverse_geocode_detailed\":{\"city\":\"Chi\\\\u00e8vres\",\"postal_code\":\"7950\",\"country_alpha_two\":\"BE\"}}},{\"single_line_address\":\"Servian, H\\\\u00e9rault\",\"multi_line_address\":[],\"subtitle\":\"Citt\\\\u00e0\",\"page\":{\"id\":\"105958486102381\"},\"location\":{\"latitude\":43.42821,\"longitude\":3.30706,\"reverse_geocode_detailed\":{\"city\":\"Servian\",\"postal_code\":\"34290\",\"country_alpha_two\":\"FR\"}}}]},\"extensions\":{\"is_final\":true}}'\n",
      "b'{\"data\":{\"basic_marketplace_geo_entities_search\":[{\"single_line_address\":\"Conselice\",\"multi_line_address\":[],\"subtitle\":\"Citt\\\\u00e0\",\"page\":{\"id\":\"109272745759400\"},\"location\":{\"latitude\":44.5136,\"longitude\":11.83114,\"reverse_geocode_detailed\":{\"city\":\"Conselice\",\"postal_code\":\"48017\",\"country_alpha_two\":\"IT\"}}}]},\"extensions\":{\"is_final\":true}}'\n",
      "b'{\"data\":{\"basic_marketplace_geo_entities_search\":[{\"single_line_address\":\"Cotignola\",\"multi_line_address\":[],\"subtitle\":\"Citt\\\\u00e0\",\"page\":{\"id\":\"108326449189280\"},\"location\":{\"latitude\":44.38196,\"longitude\":11.93588,\"reverse_geocode_detailed\":{\"city\":\"Cotignola\",\"postal_code\":\"48033\",\"country_alpha_two\":\"IT\"}}}]},\"extensions\":{\"is_final\":true}}'\n",
      "b'{\"data\":{\"basic_marketplace_geo_entities_search\":[{\"single_line_address\":\"Faenza\",\"multi_line_address\":[],\"subtitle\":\"Citt\\\\u00e0\",\"page\":{\"id\":\"103758862995533\"},\"location\":{\"latitude\":44.28388,\"longitude\":11.88815,\"reverse_geocode_detailed\":{\"city\":\"Faenza\",\"postal_code\":\"48018\",\"country_alpha_two\":\"IT\"}}}]},\"extensions\":{\"is_final\":true}}'\n",
      "b'{\"data\":{\"basic_marketplace_geo_entities_search\":[{\"single_line_address\":\"Fusignano\",\"multi_line_address\":[],\"subtitle\":\"Citt\\\\u00e0\",\"page\":{\"id\":\"107403715948727\"},\"location\":{\"latitude\":44.46676,\"longitude\":11.96418,\"reverse_geocode_detailed\":{\"city\":\"Fusignano\",\"postal_code\":\"48034\",\"country_alpha_two\":\"IT\"}}}]},\"extensions\":{\"is_final\":true}}'\n",
      "b'{\"data\":{\"basic_marketplace_geo_entities_search\":[{\"single_line_address\":\"Lugo\",\"multi_line_address\":[],\"subtitle\":\"Citt\\\\u00e0\",\"page\":{\"id\":\"109317799086039\"},\"location\":{\"latitude\":43.00952,\"longitude\":-7.56941,\"reverse_geocode_detailed\":{\"city\":\"Lugo\",\"postal_code\":\"27004\",\"country_alpha_two\":\"ES\"}}},{\"single_line_address\":\"Lugo, Italy\",\"multi_line_address\":[],\"subtitle\":\"Citt\\\\u00e0\",\"page\":{\"id\":\"108471619181759\"},\"location\":{\"latitude\":44.42174,\"longitude\":11.91156,\"reverse_geocode_detailed\":{\"city\":\"Lugo\",\"postal_code\":\"48022\",\"country_alpha_two\":\"IT\"}}},{\"single_line_address\":\"Lugoj\",\"multi_line_address\":[],\"subtitle\":\"Citt\\\\u00e0\",\"page\":{\"id\":\"105544859478325\"},\"location\":{\"latitude\":45.68493,\"longitude\":21.90599,\"reverse_geocode_detailed\":{\"city\":\"Lugoj\",\"postal_code\":\"305500\",\"country_alpha_two\":\"RO\"}}},{\"single_line_address\":\"Ca Di Lugo, Emilia-Romagna, Italy\",\"multi_line_address\":[],\"subtitle\":\"Citt\\\\u00e0\",\"page\":{\"id\":\"110105015674078\"},\"location\":{\"latitude\":44.459311009921,\"longitude\":11.883485246048,\"reverse_geocode_detailed\":{\"city\":\"Lugo\",\"postal_code\":\"48022\",\"country_alpha_two\":\"IT\"}}},{\"single_line_address\":\"Paradela, Lugo\",\"multi_line_address\":[],\"subtitle\":\"Citt\\\\u00e0\",\"page\":{\"id\":\"108204459201292\"},\"location\":{\"latitude\":42.763962,\"longitude\":-7.567418,\"reverse_geocode_detailed\":{\"city\":\"Paradela\",\"postal_code\":\"27611\",\"country_alpha_two\":\"ES\"}}},{\"single_line_address\":\"Lugos, Timis, Romania\",\"multi_line_address\":[],\"subtitle\":\"Citt\\\\u00e0\",\"page\":{\"id\":\"110292358990034\"},\"location\":{\"latitude\":45.6848152964,\"longitude\":21.9138760638,\"reverse_geocode_detailed\":{\"city\":\"Lugoj\",\"postal_code\":\"305500\",\"country_alpha_two\":\"RO\"}}},{\"single_line_address\":\"Lugones, Asturias, Spain\",\"multi_line_address\":[],\"subtitle\":\"Citt\\\\u00e0\",\"page\":{\"id\":\"106540879380410\"},\"location\":{\"latitude\":43.404926063736,\"longitude\":-5.8065531098916,\"reverse_geocode_detailed\":{\"city\":\"Siero\",\"postal_code\":\"33420\",\"country_alpha_two\":\"ES\"}}},{\"single_line_address\":\"Sober, Spain\",\"multi_line_address\":[],\"subtitle\":\"Citt\\\\u00e0\",\"page\":{\"id\":\"106038869434965\"},\"location\":{\"latitude\":42.46217,\"longitude\":-7.58456,\"reverse_geocode_detailed\":{\"city\":\"Sober\",\"postal_code\":\"27460\",\"country_alpha_two\":\"ES\"}}},{\"single_line_address\":\"Quiroga, Galicia\",\"multi_line_address\":[],\"subtitle\":\"Citt\\\\u00e0\",\"page\":{\"id\":\"112340842112389\"},\"location\":{\"latitude\":42.47538,\"longitude\":-7.27015,\"reverse_geocode_detailed\":{\"city\":\"Quiroga\",\"postal_code\":\"27320\",\"country_alpha_two\":\"ES\"}}},{\"single_line_address\":\"Muras, Galicia\",\"multi_line_address\":[],\"subtitle\":\"Citt\\\\u00e0\",\"page\":{\"id\":\"113166662030293\"},\"location\":{\"latitude\":43.46684,\"longitude\":-7.72277,\"reverse_geocode_detailed\":{\"city\":\"Muras\",\"postal_code\":\"27836\",\"country_alpha_two\":\"ES\"}}}]},\"extensions\":{\"is_final\":true}}'\n",
      "b'{\"data\":{\"basic_marketplace_geo_entities_search\":[]},\"extensions\":{\"is_final\":true}}'\n",
      "b'{\"data\":{\"basic_marketplace_geo_entities_search\":[{\"single_line_address\":\"Ravenna, Italy\",\"multi_line_address\":[],\"subtitle\":\"Citt\\\\u00e0\",\"page\":{\"id\":\"115401551805737\"},\"location\":{\"latitude\":44.417613,\"longitude\":12.200396,\"reverse_geocode_detailed\":{\"city\":\"Ravenna\",\"postal_code\":\"48121\",\"country_alpha_two\":\"IT\"}}},{\"single_line_address\":\"Marina Di Ravenna, Emilia-Romagna, Italy\",\"multi_line_address\":[],\"subtitle\":\"Citt\\\\u00e0\",\"page\":{\"id\":\"112979228721001\"},\"location\":{\"latitude\":44.483934519881,\"longitude\":12.280134096008,\"reverse_geocode_detailed\":{\"city\":\"Ravenna\",\"postal_code\":\"48122\",\"country_alpha_two\":\"IT\"}}},{\"single_line_address\":\"Castiglione Di Ravenna, Emilia-Romagna, Italy\",\"multi_line_address\":[],\"subtitle\":\"Citt\\\\u00e0\",\"page\":{\"id\":\"112061362152513\"},\"location\":{\"latitude\":44.26098813671,\"longitude\":12.255552456259,\"reverse_geocode_detailed\":{\"city\":\"Ravenna\",\"postal_code\":\"48125\",\"country_alpha_two\":\"IT\"}}},{\"single_line_address\":\"Solarolo\",\"multi_line_address\":[],\"subtitle\":\"Citt\\\\u00e0\",\"page\":{\"id\":\"111752902175169\"},\"location\":{\"latitude\":44.35886,\"longitude\":11.84721,\"reverse_geocode_detailed\":{\"city\":\"Solarolo\",\"postal_code\":\"48027\",\"country_alpha_two\":\"IT\"}}}]},\"extensions\":{\"is_final\":true}}'\n",
      "b'{\"data\":{\"basic_marketplace_geo_entities_search\":[]},\"extensions\":{\"is_final\":true}}'\n"
     ]
    }
   ],
   "source": [
    "import requests\n",
    "from urllib.parse import quote\n",
    "\n",
    "responses_data = []\n",
    "for row in df['place name'].values:\n",
    "    cookies = {\n",
    "        'sb': 'FVizYSX6oLSbfPsLYTEy4sK2',\n",
    "        'datr': 'kC52ZUbb7Zc0B3K2xG5oqR3r',\n",
    "        'c_user': '1367569598',\n",
    "        'fr': '0g6qCFKlrRAXvpydD.AWW5xkjwnNXHje37dtVkdoqUAdU.Bl3zOY..AAA.0.0.Bl3zfL.AWX6M-o8y5c',\n",
    "        'usida': 'eyJ2ZXIiOjEsImlkIjoiQXM5a2h2MmV5dmlvMSIsInRpbWUiOjE3MDkxMjc2Mjd9',\n",
    "        'presence': 'C%7B%22t3%22%3A%5B%5D%2C%22utc3%22%3A1709153407400%2C%22v%22%3A1%7D',\n",
    "        'dpr': '1.125',\n",
    "        'oo': 'v1',\n",
    "        'xs': '38%3A1CNXyg8KDP0GKA%3A2%3A1709126471%3A-1%3A10632%3A%3AAcU3gAcsh_w6MxZbHYW85ybdg-coNnSBjTJokCiN4c0',\n",
    "        'wd': '1058x703',\n",
    "    }\n",
    "    \n",
    "    headers = {\n",
    "        'authority': 'www.facebook.com',\n",
    "        'accept': '*/*',\n",
    "        'accept-language': 'en-GB,en;q=0.9,it-IT;q=0.8,it;q=0.7,en-US;q=0.6',\n",
    "        'cache-control': 'no-cache',\n",
    "        'content-type': 'application/x-www-form-urlencoded',\n",
    "        # 'cookie': 'sb=FVizYSX6oLSbfPsLYTEy4sK2; datr=kC52ZUbb7Zc0B3K2xG5oqR3r; c_user=1367569598; fr=0g6qCFKlrRAXvpydD.AWW5xkjwnNXHje37dtVkdoqUAdU.Bl3zOY..AAA.0.0.Bl3zfL.AWX6M-o8y5c; usida=eyJ2ZXIiOjEsImlkIjoiQXM5a2h2MmV5dmlvMSIsInRpbWUiOjE3MDkxMjc2Mjd9; presence=C%7B%22t3%22%3A%5B%5D%2C%22utc3%22%3A1709153407400%2C%22v%22%3A1%7D; dpr=1.125; oo=v1; xs=38%3A1CNXyg8KDP0GKA%3A2%3A1709126471%3A-1%3A10632%3A%3AAcU3gAcsh_w6MxZbHYW85ybdg-coNnSBjTJokCiN4c0; wd=1058x703',\n",
    "        'dnt': '1',\n",
    "        'dpr': '1.25',\n",
    "        'origin': 'https://www.facebook.com',\n",
    "        'pragma': 'no-cache',\n",
    "        'referer': 'https://www.facebook.com/marketplace/np/109317799086039/search/?query=rhodes%20piano&radius=60&session_id=682090334&exact=false',\n",
    "        'sec-ch-prefers-color-scheme': 'light',\n",
    "        'sec-ch-ua': '\"Chromium\";v=\"122\", \"Not(A:Brand\";v=\"24\", \"Google Chrome\";v=\"122\"',\n",
    "        'sec-ch-ua-full-version-list': '\"Chromium\";v=\"122.0.6261.70\", \"Not(A:Brand\";v=\"24.0.0.0\", \"Google Chrome\";v=\"122.0.6261.70\"',\n",
    "        'sec-ch-ua-mobile': '?0',\n",
    "        'sec-ch-ua-model': '\"\"',\n",
    "        'sec-ch-ua-platform': '\"Windows\"',\n",
    "        'sec-ch-ua-platform-version': '\"10.0.0\"',\n",
    "        'sec-fetch-dest': 'empty',\n",
    "        'sec-fetch-mode': 'cors',\n",
    "        'sec-fetch-site': 'same-origin',\n",
    "        'user-agent': 'Mozilla/5.0 (Windows NT 10.0; Win64; x64) AppleWebKit/537.36 (KHTML, like Gecko) Chrome/122.0.0.0 Safari/537.36',\n",
    "        'viewport-width': '1058',\n",
    "        'x-asbd-id': '129477',\n",
    "        'x-fb-friendly-name': 'BasicMarketplaceSearchAddressDataSourceQuery',\n",
    "        'x-fb-lsd': 'LHmQ5GRhEviS4_iKhsy1-9',\n",
    "    }\n",
    "    \n",
    "    data = {\n",
    "        'av': '1367569598',\n",
    "        '__aaid': '0',\n",
    "        '__user': '1367569598',\n",
    "        '__a': '1',\n",
    "        '__req': 'ci',\n",
    "        '__hs': '19781.HYP:comet_pkg.2.1..2.1',\n",
    "        'dpr': '1.5',\n",
    "        '__ccg': 'EXCELLENT',\n",
    "        '__rev': '1011712572',\n",
    "        '__s': '64ctzd:xtbi57:uq1kyh',\n",
    "        '__hsi': '7340757966750453463',\n",
    "        '__dyn': '7AzHK4HwkEng5K8G6EjBAg2owIxu13wFG1gyUW3q2ibwNw9G2Saxa1NwJwpUe8hwaG0Z82_CxS320om78c87m221FwgolzUO0-E7m4oaEnxO0Bo7O2l2Utwwwi831wiE567Udo5qfK0zEkxe2GewGwkUtxGm2SUbElxm1Wxfxmu3W3y261eBx_wHwoE2mBwFKq2-azqwqo4i1jg2cwMwhEkxebwHwNxe6Uak0zU8oC1Hg6C13whEeE4WVU-4Edo',\n",
    "        '__csr': 'htgx95R7iHHnh5HEI8iiPvkgKB9sLW9tYJEBQHN91iZSFCKKGKJf_TZXBrl__ACWGiGQiGVSF8yGAhFF8J9aAUKrGq48-l2ELGi4HyVWxu9K4k_ByU98Cii5Q-cAyrxO5obohwj88UG8G8ACDCDwWwuawhEb8XwwwUwZyo7puawDwioa8gGq3W0E86e0FUC3e1BxHwqooK0se08Ywdq06nUkxy1ow2EEhw05dDwai5FE2RQ0wU0wK0eJw4Ow3Q80hMw0Gvw7lDw1XC01y3wda3mhG05Q9m1Kw',\n",
    "        '__comet_req': '15',\n",
    "        'fb_dtsg': 'NAcMNhD2tl7zs1TLnobwM85DZ9ayKmG5fcsJ3qsxRedbUnMg_dmPhCw:38:1709126471',\n",
    "        'jazoest': '25669',\n",
    "        'lsd': 'LHmQ5GRhEviS4_iKhsy1-9',\n",
    "        '__spin_r': '1011712572',\n",
    "        '__spin_b': 'trunk',\n",
    "        '__spin_t': '1709153402',\n",
    "        '__jssesw': '1',\n",
    "        'fb_api_caller_class': 'RelayModern',\n",
    "        'fb_api_req_friendly_name': 'BasicMarketplaceSearchAddressDataSourceQuery',\n",
    "        'variables': '{{\"params\":{{\"query\":\"{}\"}}}}'.format(quote(row)),\n",
    "        'server_timestamps': 'true',\n",
    "        'doc_id': '7026380494071631',\n",
    "    }\n",
    "\n",
    "    response = requests.post('https://www.facebook.com/api/graphql/', cookies=cookies, headers=headers, data=data)\n",
    "    print(response.content)\n",
    "    responses_data.append(response.json().get(\"data\", {}))    "
   ],
   "metadata": {
    "collapsed": false,
    "ExecuteTime": {
     "end_time": "2024-02-29T20:28:34.022732Z",
     "start_time": "2024-02-29T20:28:31.496438Z"
    }
   },
   "id": "df297912d16e8678",
   "execution_count": 55
  },
  {
   "cell_type": "markdown",
   "source": [
    "4. Build and print the cities mapping"
   ],
   "metadata": {
    "collapsed": false
   },
   "id": "bbaff5eb4afc4e51"
  },
  {
   "cell_type": "code",
   "outputs": [
    {
     "name": "stdout",
     "output_type": "stream",
     "text": [
      "{('48013', 'IT'): '103824622989212', ('48015', 'IT'): '105762946124194', ('02020', 'IT'): '103740509665061', ('17464', 'ES'): '104804759555744', ('7950', 'BE'): '112565218760518', ('34290', 'FR'): '105958486102381', ('48017', 'IT'): '109272745759400', ('48033', 'IT'): '108326449189280', ('48018', 'IT'): '103758862995533', ('48034', 'IT'): '107403715948727', ('27004', 'ES'): '109317799086039', ('48022', 'IT'): '110105015674078', ('305500', 'RO'): '110292358990034', ('27611', 'ES'): '108204459201292', ('33420', 'ES'): '106540879380410', ('27460', 'ES'): '106038869434965', ('27320', 'ES'): '112340842112389', ('27836', 'ES'): '113166662030293', ('48121', 'IT'): '115401551805737', ('48122', 'IT'): '112979228721001', ('48125', 'IT'): '112061362152513', ('48027', 'IT'): '111752902175169'}\n"
     ]
    }
   ],
   "source": [
    "city_dict = {}\n",
    "for response_data in responses_data:\n",
    "    for location in response_data[\"basic_marketplace_geo_entities_search\"]:\n",
    "        if location.get(\"single_line_address\"):\n",
    "            geocode_data = location[\"location\"][\"reverse_geocode_detailed\"]\n",
    "            postal_code = geocode_data[\"postal_code\"]\n",
    "            country_code = geocode_data[\"country_alpha_two\"]\n",
    "            city_id = location[\"page\"][\"id\"]\n",
    "            city_dict[(postal_code, country_code)] = city_id\n",
    "print(city_dict)    "
   ],
   "metadata": {
    "collapsed": false,
    "ExecuteTime": {
     "end_time": "2024-02-29T21:07:30.700184Z",
     "start_time": "2024-02-29T21:07:30.680776Z"
    }
   },
   "id": "17c2302bf2ec22e",
   "execution_count": 68
  }
 ],
 "metadata": {
  "kernelspec": {
   "display_name": "Python 3",
   "language": "python",
   "name": "python3"
  },
  "language_info": {
   "codemirror_mode": {
    "name": "ipython",
    "version": 2
   },
   "file_extension": ".py",
   "mimetype": "text/x-python",
   "name": "python",
   "nbconvert_exporter": "python",
   "pygments_lexer": "ipython2",
   "version": "2.7.6"
  }
 },
 "nbformat": 4,
 "nbformat_minor": 5
}
